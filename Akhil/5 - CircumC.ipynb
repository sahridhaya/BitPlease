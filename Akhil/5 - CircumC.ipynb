{
 "cells": [
  {
   "cell_type": "code",
   "execution_count": 1,
   "metadata": {},
   "outputs": [],
   "source": [
    "import math\n",
    "import sys"
   ]
  },
  {
   "cell_type": "code",
   "execution_count": 2,
   "metadata": {},
   "outputs": [],
   "source": [
    "#Test cases \n",
    "X1=0   #X coordinate of A\n",
    "Y1=0   #Y coordinate of A\n",
    "\n",
    "X2=0  #X coordinate of B\n",
    "Y2=2   #X coordinate of B\n",
    "\n",
    "X3=2    #X coordinate of C\n",
    "Y3=0   #X coordinate of C"
   ]
  },
  {
   "cell_type": "code",
   "execution_count": 14,
   "metadata": {},
   "outputs": [],
   "source": [
    "def sloped(x1, y1, x2, y2):   # fn to find slope\n",
    "    if x2-x1 is 0:\n",
    "        m=sys.maxsize\n",
    "    else:\n",
    "        m=(y2-y1)/(x2-x1)\n",
    "    return m"
   ]
  },
  {
   "cell_type": "code",
   "execution_count": 15,
   "metadata": {},
   "outputs": [],
   "source": [
    "def angled(m1, m2):    # fn to find angle\n",
    "    if m1*m2 is 1:\n",
    "        theta = 90\n",
    "    else:\n",
    "        theta= math.degrees(math.atan( (m2-m1)/(1-(m1*m2))))\n",
    "    return theta"
   ]
  },
  {
   "cell_type": "code",
   "execution_count": 16,
   "metadata": {},
   "outputs": [],
   "source": [
    "def circumcenterd1(x1, x2, x3, a, b, c):     # fn to find x coordinate of circumcentre\n",
    "    x4=( ((x1*math.sin(2*a)) + (x2*math.sin(2*b)) + (x3*math.sin(2*c))) / ((math.sin(2*a) + math.sin(2*b) + math.sin(2*c))) )\n",
    "    \n",
    "    return x4"
   ]
  },
  {
   "cell_type": "code",
   "execution_count": 17,
   "metadata": {},
   "outputs": [],
   "source": [
    "def circumcenterd2(y1, y2, y3, a, b, c):       # fn to find x coordinate of circumcentre\n",
    "    y4=( ((y1*math.sin(2*a)) + (y2*math.sin(2*b)) + (y3*math.sin(2*c))) / ((math.sin(2*a) + math.sin(2*b) + math.sin(2*c))) )\n",
    "    \n",
    "    return y4"
   ]
  },
  {
   "cell_type": "code",
   "execution_count": 18,
   "metadata": {},
   "outputs": [],
   "source": [
    "def distanced(x1, x2, y1, y2):    # fn to find distance b/w circum and a point\n",
    "    d=math.sqrt( ( (x1-x2)*(x1-x2) ) + ( (y1-y2)*(y1-y2) ) )\n",
    "    return d\n"
   ]
  },
  {
   "cell_type": "code",
   "execution_count": 19,
   "metadata": {},
   "outputs": [],
   "source": [
    "def errored(angle):  #Edge case\n",
    "    if angle==180:\n",
    "        print(\"Error\")\n",
    "        sys.exit()"
   ]
  },
  {
   "cell_type": "code",
   "execution_count": 20,
   "metadata": {},
   "outputs": [],
   "source": [
    "def circumfernced(r):   #Calculating Circumference\n",
    "    c = 2*3.14*r\n",
    "    return c"
   ]
  },
  {
   "cell_type": "code",
   "execution_count": 21,
   "metadata": {},
   "outputs": [
    {
     "name": "stdout",
     "output_type": "stream",
     "text": [
      "9223372036854775807\n",
      "-1.0\n",
      "-0.0\n"
     ]
    }
   ],
   "source": [
    "# finding slopes\n",
    "\n",
    "M1 = (sloped(X1, Y1, X2, Y2)) # slope AB\n",
    "print (M1)\n",
    "M2 = (sloped(X2, Y2, X3, Y3)) # slope BC\n",
    "print (M2)\n",
    "M3 = (sloped(X3, Y3, X1, Y1)) # slope AC\n",
    "print (M3)"
   ]
  },
  {
   "cell_type": "code",
   "execution_count": 23,
   "metadata": {},
   "outputs": [
    {
     "name": "stdout",
     "output_type": "stream",
     "text": [
      "-90.0\n",
      "-45.0\n",
      "-45.0\n"
     ]
    }
   ],
   "source": [
    "# finding angles\n",
    "\n",
    "a = angled(M1, M3) # angle of vertex A\n",
    "print(a)\n",
    "b = angled(M1, M2) # angle of vertex B\n",
    "print(b)\n",
    "c = angled(M3, M2) # angle of vertex C\n",
    "print(c)"
   ]
  },
  {
   "cell_type": "code",
   "execution_count": 24,
   "metadata": {},
   "outputs": [],
   "source": [
    "# edge case check\n",
    "\n",
    "errored(a)\n",
    "errored(b)\n",
    "errored(c)\n"
   ]
  },
  {
   "cell_type": "code",
   "execution_count": 25,
   "metadata": {},
   "outputs": [],
   "source": [
    "# cord of circm\n",
    "\n",
    "X4 = circumcenterd1(X1, X2, X3, a, b, c)\n",
    "\n",
    "Y4 = circumcenterd2(Y1, Y2, Y3, a, b, c)"
   ]
  },
  {
   "cell_type": "code",
   "execution_count": 26,
   "metadata": {},
   "outputs": [
    {
     "name": "stdout",
     "output_type": "stream",
     "text": [
      "2.5623228091666492\n"
     ]
    }
   ],
   "source": [
    "# radius\n",
    "\n",
    "R = distanced(X4, X1, Y4, Y1)\n",
    "print(R)"
   ]
  },
  {
   "cell_type": "code",
   "execution_count": 27,
   "metadata": {},
   "outputs": [],
   "source": [
    "# circumference\n",
    "\n",
    "C = circumfernced(R)"
   ]
  },
  {
   "cell_type": "code",
   "execution_count": 28,
   "metadata": {},
   "outputs": [
    {
     "name": "stdout",
     "output_type": "stream",
     "text": [
      "16.091387241566558\n"
     ]
    }
   ],
   "source": [
    "# printing result\n",
    "\n",
    "print (C)"
   ]
  }
 ],
 "metadata": {
  "kernelspec": {
   "display_name": "Python 3",
   "language": "python",
   "name": "python3"
  },
  "language_info": {
   "codemirror_mode": {
    "name": "ipython",
    "version": 3
   },
   "file_extension": ".py",
   "mimetype": "text/x-python",
   "name": "python",
   "nbconvert_exporter": "python",
   "pygments_lexer": "ipython3",
   "version": "3.7.0"
  }
 },
 "nbformat": 4,
 "nbformat_minor": 2
}
