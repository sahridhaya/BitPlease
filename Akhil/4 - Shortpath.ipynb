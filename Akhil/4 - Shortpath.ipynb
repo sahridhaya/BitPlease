{
 "cells": [
  {
   "cell_type": "code",
   "execution_count": 1,
   "metadata": {},
   "outputs": [],
   "source": [
    "import math\n",
    "import sys\n",
    "from math import atan2,degrees\n",
    "M=[[1,2,3,4],[5,6,7,8],[9,10,11,12],[13,14,15,16]]\n",
    "\n",
    "i=0      # iterating variable\n",
    "## Going from A to B ##\n",
    "## O is the Obstruction ##\n",
    "r1=3     #y coordinate of A\n",
    "c1=3     #x coordinate of A\n",
    "\n",
    "r2=0     #y coordinate of B\n",
    "c2=0     #x coordinate of B\n",
    "\n",
    "r3=0     #y coordinate of O\n",
    "c3=1    #x coordinate of O\n",
    "\n",
    "x1=c2-c1 #horizontal step limit for taversing between A and B\n",
    "y1=r2-r1 #vertical step limit for taversing between A and B\n",
    "x2=c3-c1 #horizontal step limit for taversing between A and O\n",
    "y2=r3-r1 #vertical step limit for taversing between A and O\n",
    "\n",
    "\n"
   ]
  },
  {
   "cell_type": "code",
   "execution_count": 2,
   "metadata": {},
   "outputs": [],
   "source": [
    "def angled(x, y):   # fn to find angle\n",
    "    return degrees(atan2(y, x))"
   ]
  },
  {
   "cell_type": "code",
   "execution_count": 3,
   "metadata": {},
   "outputs": [],
   "source": [
    "def moves(x1, x2, y1, y2, z1, z2):\n",
    "    if (z1>=0 and z1<=90): # B is down-right to A       \n",
    "        while(x1!=0):\n",
    "                    x1=x1-1\n",
    "                    print('r ')\n",
    "        while(y1!=0):\n",
    "                    y1=y1-1\n",
    "                    print('d ')\n",
    "        \n",
    "   \n",
    "\n",
    "    if (z1>=90 and z1<=180): # B is down-left to A     \n",
    "        x1=-x1 #making it positive\n",
    "        while(x1!=0):\n",
    "            x1=x1-1\n",
    "            print('l ')\n",
    "        while(y1!=0):\n",
    "            y1=y1-1\n",
    "            print('d ')\n",
    "\n",
    "    \n",
    " \n",
    "    if (z1>=-90 and z1<=0): # B is up-right to A        \n",
    "        y1=-y1 #making it positive\n",
    "        while(x1!=0):\n",
    "            x1=x1-1\n",
    "            print('r ')\n",
    "        while(y1!=0):\n",
    "            y1=y1-1\n",
    "            print('u ')\n",
    "\n",
    "\n",
    "\n",
    "    if (z1>=-180 and z1<=-90): # B is up-left to A  \n",
    "        x1=-x1 #making it positive\n",
    "        y1=-y1 #making it positive\n",
    "        while(x1!=0):\n",
    "            x1=x1-1\n",
    "            print('l ')\n",
    "        while(y1!=0):\n",
    "            y1=y1-1\n",
    "            print('u ')\n"
   ]
  },
  {
   "cell_type": "code",
   "execution_count": 4,
   "metadata": {},
   "outputs": [
    {
     "name": "stdout",
     "output_type": "stream",
     "text": [
      "Angle of AB z1= -135.0\n",
      "Angle of AB z2= -123.69006752597979\n",
      "A= 16\n",
      "B= 1\n",
      "O= 2\n",
      "l \n",
      "l \n",
      "l \n",
      "u \n",
      "u \n",
      "u \n"
     ]
    }
   ],
   "source": [
    "\n",
    "z1=angled(x1,y1) #angle of vector AB\n",
    "z2=angled(x2,y2)#angle of vector AO\n",
    "\n",
    "print(\"Angle of AB z1=\", z1)\n",
    "print(\"Angle of AB z2=\", z2)\n",
    "\n",
    "print(\"A=\", M[r1][c1])\n",
    "print(\"B=\", M[r2][c2])\n",
    "print(\"O=\", M[r3][c3])\n",
    "\n",
    "\n",
    "if(z1!=z2):\n",
    "    moves(x1, x2, y1, y2, z1, z2)\n",
    "else:\n",
    "    change_place(x1, x2, y1, y2, z1, z2)\n",
    "    moves(x1, x2, y1, y2, z1, z2)\n",
    "    "
   ]
  },
  {
   "cell_type": "code",
   "execution_count": null,
   "metadata": {},
   "outputs": [],
   "source": [
    "def change_place(x1, x2, y1, y2, z1, z2):\n",
    "    # to be added soon \n",
    "    \n",
    "    "
   ]
  },
  {
   "cell_type": "code",
   "execution_count": null,
   "metadata": {},
   "outputs": [],
   "source": []
  },
  {
   "cell_type": "code",
   "execution_count": null,
   "metadata": {},
   "outputs": [],
   "source": []
  },
  {
   "cell_type": "code",
   "execution_count": null,
   "metadata": {},
   "outputs": [],
   "source": []
  }
 ],
 "metadata": {
  "kernelspec": {
   "display_name": "Python 3",
   "language": "python",
   "name": "python3"
  },
  "language_info": {
   "codemirror_mode": {
    "name": "ipython",
    "version": 3
   },
   "file_extension": ".py",
   "mimetype": "text/x-python",
   "name": "python",
   "nbconvert_exporter": "python",
   "pygments_lexer": "ipython3",
   "version": "3.7.0"
  }
 },
 "nbformat": 4,
 "nbformat_minor": 2
}
