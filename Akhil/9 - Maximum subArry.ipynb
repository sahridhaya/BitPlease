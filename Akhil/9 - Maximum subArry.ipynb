{
 "cells": [
  {
   "cell_type": "code",
   "execution_count": null,
   "metadata": {},
   "outputs": [],
   "source": [
    "A[1,2,3,4,5,6,7,8,9,10]\n"
   ]
  },
  {
   "cell_type": "code",
   "execution_count": 1,
   "metadata": {},
   "outputs": [
    {
     "ename": "SyntaxError",
     "evalue": "invalid syntax (<ipython-input-1-1a1019ac6688>, line 3)",
     "output_type": "error",
     "traceback": [
      "\u001b[1;36m  File \u001b[1;32m\"<ipython-input-1-1a1019ac6688>\"\u001b[1;36m, line \u001b[1;32m3\u001b[0m\n\u001b[1;33m    for i from n\u001b[0m\n\u001b[1;37m             ^\u001b[0m\n\u001b[1;31mSyntaxError\u001b[0m\u001b[1;31m:\u001b[0m invalid syntax\n"
     ]
    }
   ],
   "source": [
    "class subseq:\n",
    "    Msum=0  # maximum sum of the sets\n",
    "    Usum=0  # ultimate sum of among the max sum sets\n",
    "    temp=0  # Temporary sum value of set \n",
    "    def maxsum(n):\n",
    "        for i in range(size(A)):     # changing moving sum length\n",
    "            for j in range(size(A)-i):   # number of iteration for each set\n",
    "                if (Msum<temp):\n",
    "                    Msum=temp\n",
    "                for k in range(1,j):\n",
    "                    temp=temp+A[k]\n",
    "            if (Usum<Msum):\n",
    "                Usum=Msum\n",
    "            \n",
    "                \n",
    "                \n",
    "                \n",
    "            \n",
    "            \n",
    "        "
   ]
  }
 ],
 "metadata": {
  "kernelspec": {
   "display_name": "Python 3",
   "language": "python",
   "name": "python3"
  },
  "language_info": {
   "codemirror_mode": {
    "name": "ipython",
    "version": 3
   },
   "file_extension": ".py",
   "mimetype": "text/x-python",
   "name": "python",
   "nbconvert_exporter": "python",
   "pygments_lexer": "ipython3",
   "version": "3.7.0"
  }
 },
 "nbformat": 4,
 "nbformat_minor": 2
}
