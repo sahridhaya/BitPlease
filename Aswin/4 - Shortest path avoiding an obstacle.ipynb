{
 "cells": [
  {
   "cell_type": "code",
   "execution_count": 2,
   "metadata": {},
   "outputs": [
    {
     "name": "stdout",
     "output_type": "stream",
     "text": [
      "r \n",
      "r \n",
      "r \n",
      "u \n"
     ]
    }
   ],
   "source": [
    "import math\n",
    "\n",
    "A=[[1,2,3,4],[5,6,7,8],[9,10,11,12],[13,14,15,16]]\n",
    "\n",
    "i=0      # iterating variable\n",
    "## Going from S to X ##\n",
    "## O is the Obstruction ##\n",
    "r1=1     #y coordinate of S\n",
    "c1=0     #x coordinate of S\n",
    "\n",
    "r2=0     #y coordinate of X\n",
    "c2=3     #x coordinate of X\n",
    "\n",
    "r3=1     #y coordinate of O\n",
    "c3=2     #x coordinate of O\n",
    "\n",
    "x1=c2-c1 #horizontal step limit for taversing between S and X\n",
    "y1=r2-r1 #vertical step limit for taversing between S and X\n",
    "x2=c3-c1 #horizontal step limit for taversing between S and O\n",
    "y2=r3-r1 #vertical step limit for taversing between S and O\n",
    "\n",
    "z1=math.degrees(math.atan(y1/x1))  #angle of vector SX\n",
    "z2=math.degrees(math.atan(y2/x2)) #angle of vector SO\n",
    "\n",
    "if (z1<z2):\n",
    "    if (x1>0 and y1>0): # X is down-right to S\n",
    "        while(x1!=0):\n",
    "                    x1=x1-1\n",
    "                    print('r ')\n",
    "        while(y1!=0):\n",
    "                    y1=y1-1\n",
    "                    print('d ')\n",
    "        \n",
    "    if (x1<0 and y1>0): # X is down-left to S\n",
    "        x1=-x #making it positive\n",
    "        while(x1!=0):\n",
    "            x1=x1-1\n",
    "            print('l ')\n",
    "        while(y1!=0):\n",
    "            y1=y1-1\n",
    "            print('d ')\n",
    "\n",
    "    if (x1>0 and y1<0): # X is up-right to S\n",
    "        y1=-y1 #making it positive\n",
    "        while(x1!=0):\n",
    "            x1=x1-1\n",
    "            print('r ')\n",
    "        while(y1!=0):\n",
    "            y1=y1-1\n",
    "            print('u ')\n",
    "\n",
    "    if (x1<0 and y1<0): # X is up-left to S\n",
    "        x1=-x1 #making it positive\n",
    "        y1=-x1 #making it positive\n",
    "        while(x1!=0):\n",
    "            x1=x1-1\n",
    "            print('l ')\n",
    "        while(y1!=0):\n",
    "            y1=y1-1\n",
    "            print('u ')"
   ]
  },
  {
   "cell_type": "code",
   "execution_count": null,
   "metadata": {},
   "outputs": [],
   "source": []
  }
 ],
 "metadata": {
  "kernelspec": {
   "display_name": "Python 3",
   "language": "python",
   "name": "python3"
  },
  "language_info": {
   "codemirror_mode": {
    "name": "ipython",
    "version": 3
   },
   "file_extension": ".py",
   "mimetype": "text/x-python",
   "name": "python",
   "nbconvert_exporter": "python",
   "pygments_lexer": "ipython3",
   "version": "3.7.0"
  }
 },
 "nbformat": 4,
 "nbformat_minor": 2
}
